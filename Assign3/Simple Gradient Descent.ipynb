{
 "cells": [
  {
   "cell_type": "code",
   "execution_count": 1,
   "metadata": {},
   "outputs": [],
   "source": [
    "import numpy as np\n",
    "import matplotlib.pyplot as plt"
   ]
  },
  {
   "cell_type": "code",
   "execution_count": 2,
   "metadata": {},
   "outputs": [],
   "source": [
    "# Error\n",
    "def Err(l1,l2,w1,w2):\n",
    "    return 0.5*l1*(w1**2) + 0.5*l2*(w2**2)"
   ]
  },
  {
   "cell_type": "markdown",
   "metadata": {},
   "source": [
    "### Backpropagation\n",
    "We know that\n",
    "\n",
    "$\\frac{\\partial E}{\\partial w_1} = \\lambda_1 w_1$\n",
    "\n",
    "$\\frac{\\partial E}{\\partial w_2} = \\lambda_2 w_2$\n",
    "\n",
    "Hence the backprop loop would be as follows"
   ]
  },
  {
   "cell_type": "code",
   "execution_count": 3,
   "metadata": {},
   "outputs": [],
   "source": [
    "# Maintaining the l2 l1 ratio as mentioned in the question\n",
    "l1 = 0.1\n",
    "l2 = 1\n",
    "\n",
    "#Initialising the initial w's as 1\n",
    "w1 = 1\n",
    "w2 = 1\n",
    "\n",
    "lr_arr = np.linspace(0,1,99)\n",
    "count = 0\n",
    "max_lr = 0\n",
    "temp_err = 100\n",
    "curr_err = 100"
   ]
  },
  {
   "cell_type": "code",
   "execution_count": 4,
   "metadata": {},
   "outputs": [
    {
     "name": "stdout",
     "output_type": "stream",
     "text": [
      "0.09183673469387754\n"
     ]
    }
   ],
   "source": [
    "for lr in lr_arr:\n",
    "    while True:\n",
    "        w1 -= lr*l1*w1\n",
    "        w2 -= lr*l2*w2\n",
    "        count += 1\n",
    "        if count > 1e4:\n",
    "            curr_err = Err(l1,l2,w1,w2)\n",
    "            count = 0\n",
    "            if(curr_err < temp_err):\n",
    "                temp_err = curr_err\n",
    "                max_lr = lr\n",
    "            break\n",
    "        \n",
    "print(max_lr)"
   ]
  },
  {
   "cell_type": "code",
   "execution_count": 5,
   "metadata": {},
   "outputs": [],
   "source": [
    "# Maintaining the l2 l1 ratio as mentioned in the question\n",
    "l1 = 0.01\n",
    "l2 = 0.1\n",
    "\n",
    "#Initialising the initial w's as 1\n",
    "w1 = 1\n",
    "w2 = 1\n",
    "\n",
    "lr_arr = np.linspace(0,1,99)\n",
    "count = 0\n",
    "max_lr = 0\n",
    "temp_err = 100\n",
    "curr_err = 100"
   ]
  },
  {
   "cell_type": "code",
   "execution_count": 6,
   "metadata": {},
   "outputs": [
    {
     "name": "stdout",
     "output_type": "stream",
     "text": [
      "0.2755102040816326\n"
     ]
    }
   ],
   "source": [
    "for lr in lr_arr:\n",
    "    while True:\n",
    "        w1 -= lr*l1*w1\n",
    "        w2 -= lr*l2*w2\n",
    "        count += 1\n",
    "        if count > 1e4:\n",
    "            curr_err = Err(l1,l2,w1,w2)\n",
    "            count = 0\n",
    "            if(curr_err < temp_err):\n",
    "                temp_err = curr_err\n",
    "                max_lr = lr\n",
    "            break\n",
    "        \n",
    "print(max_lr)"
   ]
  },
  {
   "cell_type": "code",
   "execution_count": 7,
   "metadata": {},
   "outputs": [
    {
     "name": "stdout",
     "output_type": "stream",
     "text": [
      "0.030612244897959183\n"
     ]
    }
   ],
   "source": [
    "# Maintaining the l2 l1 ratio as mentioned in the question\n",
    "l1 = 1\n",
    "l2 = 10\n",
    "\n",
    "#Initialising the initial w's as 1\n",
    "w1 = 1\n",
    "w2 = 1\n",
    "\n",
    "lr_arr = np.linspace(0,1,99)\n",
    "count = 0\n",
    "max_lr = 0\n",
    "temp_err = 100\n",
    "curr_err = 100\n",
    "\n",
    "for lr in lr_arr:\n",
    "    while True:\n",
    "        w1 -= lr*l1*w1\n",
    "        w2 -= lr*l2*w2\n",
    "        count += 1\n",
    "        if count > 1e4:\n",
    "            curr_err = Err(l1,l2,w1,w2)\n",
    "            count = 0\n",
    "            if(curr_err < temp_err):\n",
    "                temp_err = curr_err\n",
    "                max_lr = lr\n",
    "            break\n",
    "print(max_lr)"
   ]
  },
  {
   "cell_type": "markdown",
   "metadata": {},
   "source": [
    "As we can see from the above observations, the lowest possible error for a given number of iterations is being achieved by a learning rate which varies with the $\\lambda_2/\\lambda_1$ ratio"
   ]
  }
 ],
 "metadata": {
  "kernelspec": {
   "display_name": "Python 3",
   "language": "python",
   "name": "python3"
  },
  "language_info": {
   "codemirror_mode": {
    "name": "ipython",
    "version": 3
   },
   "file_extension": ".py",
   "mimetype": "text/x-python",
   "name": "python",
   "nbconvert_exporter": "python",
   "pygments_lexer": "ipython3",
   "version": "3.5.2"
  }
 },
 "nbformat": 4,
 "nbformat_minor": 2
}
